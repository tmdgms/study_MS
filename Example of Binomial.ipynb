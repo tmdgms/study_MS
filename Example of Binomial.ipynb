{
 "cells": [
  {
   "cell_type": "markdown",
   "metadata": {},
   "source": [
    "# 이항분포의 예제\n",
    "(이항분포에서 N번의 베르누이 시행을 하는데 예를 들어 3번의 베르누이 시행을 한다고 하자. 이때 θ 가 0.6이라면 분포가 어떻게 일어나야 할까?에 대해 헷갈려서 예제를 사용함)"
   ]
  },
  {
   "cell_type": "markdown",
   "metadata": {},
   "source": [
    "#### 한 축구 선수가 페널티킥을 차면 5번 중 4번을 성공한다고 한다. 이선수가 10번의 페널티킥을 차서 7번 성공할 확률을 구하시오."
   ]
  },
  {
   "cell_type": "code",
   "execution_count": 13,
   "metadata": {},
   "outputs": [],
   "source": [
    "% matplotlib inline\n",
    "\n",
    "N = 10 # 10번찬다.\n",
    "theta = 0.8 #확률\n",
    "rv = sp.stats.binom(N, theta)"
   ]
  },
  {
   "cell_type": "code",
   "execution_count": 19,
   "metadata": {},
   "outputs": [
    {
     "data": {
      "image/png": "[encoded data removed]",
      "text/plain": [
       "<matplotlib.figure.Figure at 0x20d1fe0fd30>"
      ]
     },
     "metadata": {},
     "output_type": "display_data"
    }
   ],
   "source": [
    "xx = np.arange(N+1) # xx번 넣는 경우\n",
    "plt.bar(xx, rv.pmf(xx))\n",
    "plt.show()"
   ]
  },
  {
   "cell_type": "markdown",
   "metadata": {},
   "source": [
    "##### 내가헷갈린부분 = x축은 확률 변수에 페널티킥이 성공한 횟수를 대입"
   ]
  }
 ],
 "metadata": {
  "kernelspec": {
   "display_name": "Python 3",
   "language": "python",
   "name": "python3"
  },
  "language_info": {
   "codemirror_mode": {
    "name": "ipython",
    "version": 3
   },
   "file_extension": ".py",
   "mimetype": "text/x-python",
   "name": "python",
   "nbconvert_exporter": "python",
   "pygments_lexer": "ipython3",
   "version": "3.6.4"
  }
 },
 "nbformat": 4,
 "nbformat_minor": 2
}
